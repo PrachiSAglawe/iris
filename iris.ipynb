{
 "cells": [
  {
   "cell_type": "code",
   "execution_count": 1,
   "id": "e244daa8-834e-45d1-8fc3-f40e4a532172",
   "metadata": {},
   "outputs": [
    {
     "name": "stdout",
     "output_type": "stream",
     "text": [
      "Requirement already satisfied: tensorflow in c:\\users\\prashant\\anaconda3\\lib\\site-packages (2.16.1)\n",
      "Requirement already satisfied: tensorflow-intel==2.16.1 in c:\\users\\prashant\\anaconda3\\lib\\site-packages (from tensorflow) (2.16.1)\n",
      "Requirement already satisfied: absl-py>=1.0.0 in c:\\users\\prashant\\anaconda3\\lib\\site-packages (from tensorflow-intel==2.16.1->tensorflow) (2.1.0)\n",
      "Requirement already satisfied: astunparse>=1.6.0 in c:\\users\\prashant\\anaconda3\\lib\\site-packages (from tensorflow-intel==2.16.1->tensorflow) (1.6.3)\n",
      "Requirement already satisfied: flatbuffers>=23.5.26 in c:\\users\\prashant\\anaconda3\\lib\\site-packages (from tensorflow-intel==2.16.1->tensorflow) (24.3.25)\n",
      "Requirement already satisfied: gast!=0.5.0,!=0.5.1,!=0.5.2,>=0.2.1 in c:\\users\\prashant\\anaconda3\\lib\\site-packages (from tensorflow-intel==2.16.1->tensorflow) (0.5.4)\n",
      "Requirement already satisfied: google-pasta>=0.1.1 in c:\\users\\prashant\\anaconda3\\lib\\site-packages (from tensorflow-intel==2.16.1->tensorflow) (0.2.0)\n",
      "Requirement already satisfied: h5py>=3.10.0 in c:\\users\\prashant\\anaconda3\\lib\\site-packages (from tensorflow-intel==2.16.1->tensorflow) (3.10.0)\n",
      "Requirement already satisfied: libclang>=13.0.0 in c:\\users\\prashant\\anaconda3\\lib\\site-packages (from tensorflow-intel==2.16.1->tensorflow) (18.1.1)\n",
      "Requirement already satisfied: ml-dtypes~=0.3.1 in c:\\users\\prashant\\anaconda3\\lib\\site-packages (from tensorflow-intel==2.16.1->tensorflow) (0.3.2)\n",
      "Requirement already satisfied: opt-einsum>=2.3.2 in c:\\users\\prashant\\anaconda3\\lib\\site-packages (from tensorflow-intel==2.16.1->tensorflow) (3.3.0)\n",
      "Requirement already satisfied: packaging in c:\\users\\prashant\\anaconda3\\lib\\site-packages (from tensorflow-intel==2.16.1->tensorflow) (23.1)\n",
      "Requirement already satisfied: protobuf!=4.21.0,!=4.21.1,!=4.21.2,!=4.21.3,!=4.21.4,!=4.21.5,<5.0.0dev,>=3.20.3 in c:\\users\\prashant\\anaconda3\\lib\\site-packages (from tensorflow-intel==2.16.1->tensorflow) (3.20.3)\n",
      "Requirement already satisfied: requests<3,>=2.21.0 in c:\\users\\prashant\\anaconda3\\lib\\site-packages (from tensorflow-intel==2.16.1->tensorflow) (2.31.0)\n",
      "Requirement already satisfied: setuptools in c:\\users\\prashant\\anaconda3\\lib\\site-packages (from tensorflow-intel==2.16.1->tensorflow) (68.2.2)\n",
      "Requirement already satisfied: six>=1.12.0 in c:\\users\\prashant\\anaconda3\\lib\\site-packages (from tensorflow-intel==2.16.1->tensorflow) (1.16.0)\n",
      "Requirement already satisfied: termcolor>=1.1.0 in c:\\users\\prashant\\anaconda3\\lib\\site-packages (from tensorflow-intel==2.16.1->tensorflow) (2.4.0)\n",
      "Requirement already satisfied: typing-extensions>=3.6.6 in c:\\users\\prashant\\anaconda3\\lib\\site-packages (from tensorflow-intel==2.16.1->tensorflow) (4.9.0)\n",
      "Requirement already satisfied: wrapt>=1.11.0 in c:\\users\\prashant\\anaconda3\\lib\\site-packages (from tensorflow-intel==2.16.1->tensorflow) (1.14.1)\n",
      "Requirement already satisfied: grpcio<2.0,>=1.24.3 in c:\\users\\prashant\\anaconda3\\lib\\site-packages (from tensorflow-intel==2.16.1->tensorflow) (1.62.1)\n",
      "Requirement already satisfied: tensorboard<2.17,>=2.16 in c:\\users\\prashant\\anaconda3\\lib\\site-packages (from tensorflow-intel==2.16.1->tensorflow) (2.16.2)\n",
      "Requirement already satisfied: keras>=3.0.0 in c:\\users\\prashant\\anaconda3\\lib\\site-packages (from tensorflow-intel==2.16.1->tensorflow) (3.2.0)\n",
      "Requirement already satisfied: tensorflow-io-gcs-filesystem>=0.23.1 in c:\\users\\prashant\\anaconda3\\lib\\site-packages (from tensorflow-intel==2.16.1->tensorflow) (0.31.0)\n",
      "Requirement already satisfied: numpy<2.0.0,>=1.23.5 in c:\\users\\prashant\\anaconda3\\lib\\site-packages (from tensorflow-intel==2.16.1->tensorflow) (1.26.4)\n",
      "Requirement already satisfied: wheel<1.0,>=0.23.0 in c:\\users\\prashant\\anaconda3\\lib\\site-packages (from astunparse>=1.6.0->tensorflow-intel==2.16.1->tensorflow) (0.41.2)\n",
      "Requirement already satisfied: rich in c:\\users\\prashant\\anaconda3\\lib\\site-packages (from keras>=3.0.0->tensorflow-intel==2.16.1->tensorflow) (13.3.5)\n",
      "Requirement already satisfied: namex in c:\\users\\prashant\\anaconda3\\lib\\site-packages (from keras>=3.0.0->tensorflow-intel==2.16.1->tensorflow) (0.0.7)\n",
      "Requirement already satisfied: optree in c:\\users\\prashant\\anaconda3\\lib\\site-packages (from keras>=3.0.0->tensorflow-intel==2.16.1->tensorflow) (0.11.0)\n",
      "Requirement already satisfied: charset-normalizer<4,>=2 in c:\\users\\prashant\\anaconda3\\lib\\site-packages (from requests<3,>=2.21.0->tensorflow-intel==2.16.1->tensorflow) (2.0.4)\n",
      "Requirement already satisfied: idna<4,>=2.5 in c:\\users\\prashant\\anaconda3\\lib\\site-packages (from requests<3,>=2.21.0->tensorflow-intel==2.16.1->tensorflow) (3.4)\n",
      "Requirement already satisfied: urllib3<3,>=1.21.1 in c:\\users\\prashant\\anaconda3\\lib\\site-packages (from requests<3,>=2.21.0->tensorflow-intel==2.16.1->tensorflow) (2.0.7)\n",
      "Requirement already satisfied: certifi>=2017.4.17 in c:\\users\\prashant\\anaconda3\\lib\\site-packages (from requests<3,>=2.21.0->tensorflow-intel==2.16.1->tensorflow) (2024.2.2)\n",
      "Requirement already satisfied: markdown>=2.6.8 in c:\\users\\prashant\\anaconda3\\lib\\site-packages (from tensorboard<2.17,>=2.16->tensorflow-intel==2.16.1->tensorflow) (3.4.1)\n",
      "Requirement already satisfied: tensorboard-data-server<0.8.0,>=0.7.0 in c:\\users\\prashant\\anaconda3\\lib\\site-packages (from tensorboard<2.17,>=2.16->tensorflow-intel==2.16.1->tensorflow) (0.7.2)\n",
      "Requirement already satisfied: werkzeug>=1.0.1 in c:\\users\\prashant\\anaconda3\\lib\\site-packages (from tensorboard<2.17,>=2.16->tensorflow-intel==2.16.1->tensorflow) (2.2.3)\n",
      "Requirement already satisfied: MarkupSafe>=2.1.1 in c:\\users\\prashant\\anaconda3\\lib\\site-packages (from werkzeug>=1.0.1->tensorboard<2.17,>=2.16->tensorflow-intel==2.16.1->tensorflow) (2.1.3)\n",
      "Requirement already satisfied: markdown-it-py<3.0.0,>=2.2.0 in c:\\users\\prashant\\anaconda3\\lib\\site-packages (from rich->keras>=3.0.0->tensorflow-intel==2.16.1->tensorflow) (2.2.0)\n",
      "Requirement already satisfied: pygments<3.0.0,>=2.13.0 in c:\\users\\prashant\\anaconda3\\lib\\site-packages (from rich->keras>=3.0.0->tensorflow-intel==2.16.1->tensorflow) (2.15.1)\n",
      "Requirement already satisfied: mdurl~=0.1 in c:\\users\\prashant\\anaconda3\\lib\\site-packages (from markdown-it-py<3.0.0,>=2.2.0->rich->keras>=3.0.0->tensorflow-intel==2.16.1->tensorflow) (0.1.0)\n"
     ]
    }
   ],
   "source": [
    "!pip install tensorflow"
   ]
  },
  {
   "cell_type": "code",
   "execution_count": 5,
   "id": "11662c8d-a061-4708-b7e0-65698ff6ceac",
   "metadata": {},
   "outputs": [],
   "source": [
    "import pandas as pd\n",
    "import numpy as np\n",
    "import seaborn as sns\n",
    "from tensorflow import keras"
   ]
  },
  {
   "cell_type": "code",
   "execution_count": 11,
   "id": "641f342d-d073-4af9-b398-261b9f9292fd",
   "metadata": {},
   "outputs": [
    {
     "data": {
      "text/html": [
       "<div>\n",
       "<style scoped>\n",
       "    .dataframe tbody tr th:only-of-type {\n",
       "        vertical-align: middle;\n",
       "    }\n",
       "\n",
       "    .dataframe tbody tr th {\n",
       "        vertical-align: top;\n",
       "    }\n",
       "\n",
       "    .dataframe thead th {\n",
       "        text-align: right;\n",
       "    }\n",
       "</style>\n",
       "<table border=\"1\" class=\"dataframe\">\n",
       "  <thead>\n",
       "    <tr style=\"text-align: right;\">\n",
       "      <th></th>\n",
       "      <th>Id</th>\n",
       "      <th>SepalLengthCm</th>\n",
       "      <th>SepalWidthCm</th>\n",
       "      <th>PetalLengthCm</th>\n",
       "      <th>PetalWidthCm</th>\n",
       "      <th>Species</th>\n",
       "    </tr>\n",
       "  </thead>\n",
       "  <tbody>\n",
       "    <tr>\n",
       "      <th>0</th>\n",
       "      <td>1</td>\n",
       "      <td>5.1</td>\n",
       "      <td>3.5</td>\n",
       "      <td>1.4</td>\n",
       "      <td>0.2</td>\n",
       "      <td>Iris-setosa</td>\n",
       "    </tr>\n",
       "    <tr>\n",
       "      <th>1</th>\n",
       "      <td>2</td>\n",
       "      <td>4.9</td>\n",
       "      <td>3.0</td>\n",
       "      <td>1.4</td>\n",
       "      <td>0.2</td>\n",
       "      <td>Iris-setosa</td>\n",
       "    </tr>\n",
       "    <tr>\n",
       "      <th>2</th>\n",
       "      <td>3</td>\n",
       "      <td>4.7</td>\n",
       "      <td>3.2</td>\n",
       "      <td>1.3</td>\n",
       "      <td>0.2</td>\n",
       "      <td>Iris-setosa</td>\n",
       "    </tr>\n",
       "    <tr>\n",
       "      <th>3</th>\n",
       "      <td>4</td>\n",
       "      <td>4.6</td>\n",
       "      <td>3.1</td>\n",
       "      <td>1.5</td>\n",
       "      <td>0.2</td>\n",
       "      <td>Iris-setosa</td>\n",
       "    </tr>\n",
       "    <tr>\n",
       "      <th>4</th>\n",
       "      <td>5</td>\n",
       "      <td>5.0</td>\n",
       "      <td>3.6</td>\n",
       "      <td>1.4</td>\n",
       "      <td>0.2</td>\n",
       "      <td>Iris-setosa</td>\n",
       "    </tr>\n",
       "  </tbody>\n",
       "</table>\n",
       "</div>"
      ],
      "text/plain": [
       "   Id  SepalLengthCm  SepalWidthCm  PetalLengthCm  PetalWidthCm      Species\n",
       "0   1            5.1           3.5            1.4           0.2  Iris-setosa\n",
       "1   2            4.9           3.0            1.4           0.2  Iris-setosa\n",
       "2   3            4.7           3.2            1.3           0.2  Iris-setosa\n",
       "3   4            4.6           3.1            1.5           0.2  Iris-setosa\n",
       "4   5            5.0           3.6            1.4           0.2  Iris-setosa"
      ]
     },
     "execution_count": 11,
     "metadata": {},
     "output_type": "execute_result"
    }
   ],
   "source": [
    "df= pd.read_csv('Iris.csv')\n",
    "df.head()"
   ]
  },
  {
   "cell_type": "code",
   "execution_count": 12,
   "id": "a8b1d747-55b6-4c53-9170-31aa504a81d2",
   "metadata": {},
   "outputs": [
    {
     "data": {
      "text/plain": [
       "Species\n",
       "Iris-setosa        50\n",
       "Iris-versicolor    50\n",
       "Iris-virginica     50\n",
       "Name: count, dtype: int64"
      ]
     },
     "execution_count": 12,
     "metadata": {},
     "output_type": "execute_result"
    }
   ],
   "source": [
    "df['Species'].value_counts()"
   ]
  },
  {
   "cell_type": "code",
   "execution_count": 13,
   "id": "39ed916b-7c64-4319-95be-0994a1e962f0",
   "metadata": {},
   "outputs": [
    {
     "name": "stdout",
     "output_type": "stream",
     "text": [
      "<class 'pandas.core.frame.DataFrame'>\n",
      "RangeIndex: 150 entries, 0 to 149\n",
      "Data columns (total 6 columns):\n",
      " #   Column         Non-Null Count  Dtype  \n",
      "---  ------         --------------  -----  \n",
      " 0   Id             150 non-null    int64  \n",
      " 1   SepalLengthCm  150 non-null    float64\n",
      " 2   SepalWidthCm   150 non-null    float64\n",
      " 3   PetalLengthCm  150 non-null    float64\n",
      " 4   PetalWidthCm   150 non-null    float64\n",
      " 5   Species        150 non-null    object \n",
      "dtypes: float64(4), int64(1), object(1)\n",
      "memory usage: 7.2+ KB\n"
     ]
    }
   ],
   "source": [
    "df.info()"
   ]
  },
  {
   "cell_type": "code",
   "execution_count": 15,
   "id": "5a714535-ee00-436c-8650-3cb32a53d44c",
   "metadata": {},
   "outputs": [
    {
     "data": {
      "text/plain": [
       "Id               0\n",
       "SepalLengthCm    0\n",
       "SepalWidthCm     0\n",
       "PetalLengthCm    0\n",
       "PetalWidthCm     0\n",
       "Species          0\n",
       "dtype: int64"
      ]
     },
     "execution_count": 15,
     "metadata": {},
     "output_type": "execute_result"
    }
   ],
   "source": [
    "df.isnull().sum()"
   ]
  },
  {
   "cell_type": "code",
   "execution_count": 17,
   "id": "6f977a2c-656b-49b1-a10b-12c807f9cb40",
   "metadata": {},
   "outputs": [
    {
     "data": {
      "text/html": [
       "<div>\n",
       "<style scoped>\n",
       "    .dataframe tbody tr th:only-of-type {\n",
       "        vertical-align: middle;\n",
       "    }\n",
       "\n",
       "    .dataframe tbody tr th {\n",
       "        vertical-align: top;\n",
       "    }\n",
       "\n",
       "    .dataframe thead th {\n",
       "        text-align: right;\n",
       "    }\n",
       "</style>\n",
       "<table border=\"1\" class=\"dataframe\">\n",
       "  <thead>\n",
       "    <tr style=\"text-align: right;\">\n",
       "      <th></th>\n",
       "      <th>Id</th>\n",
       "      <th>SepalLengthCm</th>\n",
       "      <th>SepalWidthCm</th>\n",
       "      <th>PetalLengthCm</th>\n",
       "      <th>PetalWidthCm</th>\n",
       "      <th>Species</th>\n",
       "    </tr>\n",
       "  </thead>\n",
       "  <tbody>\n",
       "    <tr>\n",
       "      <th>0</th>\n",
       "      <td>1</td>\n",
       "      <td>5.1</td>\n",
       "      <td>3.5</td>\n",
       "      <td>1.4</td>\n",
       "      <td>0.2</td>\n",
       "      <td>0</td>\n",
       "    </tr>\n",
       "    <tr>\n",
       "      <th>1</th>\n",
       "      <td>2</td>\n",
       "      <td>4.9</td>\n",
       "      <td>3.0</td>\n",
       "      <td>1.4</td>\n",
       "      <td>0.2</td>\n",
       "      <td>0</td>\n",
       "    </tr>\n",
       "    <tr>\n",
       "      <th>2</th>\n",
       "      <td>3</td>\n",
       "      <td>4.7</td>\n",
       "      <td>3.2</td>\n",
       "      <td>1.3</td>\n",
       "      <td>0.2</td>\n",
       "      <td>0</td>\n",
       "    </tr>\n",
       "    <tr>\n",
       "      <th>3</th>\n",
       "      <td>4</td>\n",
       "      <td>4.6</td>\n",
       "      <td>3.1</td>\n",
       "      <td>1.5</td>\n",
       "      <td>0.2</td>\n",
       "      <td>0</td>\n",
       "    </tr>\n",
       "    <tr>\n",
       "      <th>4</th>\n",
       "      <td>5</td>\n",
       "      <td>5.0</td>\n",
       "      <td>3.6</td>\n",
       "      <td>1.4</td>\n",
       "      <td>0.2</td>\n",
       "      <td>0</td>\n",
       "    </tr>\n",
       "  </tbody>\n",
       "</table>\n",
       "</div>"
      ],
      "text/plain": [
       "   Id  SepalLengthCm  SepalWidthCm  PetalLengthCm  PetalWidthCm  Species\n",
       "0   1            5.1           3.5            1.4           0.2        0\n",
       "1   2            4.9           3.0            1.4           0.2        0\n",
       "2   3            4.7           3.2            1.3           0.2        0\n",
       "3   4            4.6           3.1            1.5           0.2        0\n",
       "4   5            5.0           3.6            1.4           0.2        0"
      ]
     },
     "execution_count": 17,
     "metadata": {},
     "output_type": "execute_result"
    }
   ],
   "source": [
    "from sklearn.preprocessing import LabelEncoder\n",
    "le = LabelEncoder()\n",
    "df['Species'] = le.fit_transform(df['Species'])\n",
    "df.head()"
   ]
  },
  {
   "cell_type": "code",
   "execution_count": 18,
   "id": "ddaddaf8-f7fd-489d-9bde-2e760438689f",
   "metadata": {},
   "outputs": [
    {
     "name": "stdout",
     "output_type": "stream",
     "text": [
      "['Iris-setosa' 'Iris-versicolor' 'Iris-virginica']\n"
     ]
    }
   ],
   "source": [
    "species_name = le.classes_\n",
    "print(species_name)"
   ]
  },
  {
   "cell_type": "code",
   "execution_count": 19,
   "id": "d97a8deb-145f-444d-88ad-8c5a298979fd",
   "metadata": {},
   "outputs": [
    {
     "data": {
      "text/html": [
       "<div>\n",
       "<style scoped>\n",
       "    .dataframe tbody tr th:only-of-type {\n",
       "        vertical-align: middle;\n",
       "    }\n",
       "\n",
       "    .dataframe tbody tr th {\n",
       "        vertical-align: top;\n",
       "    }\n",
       "\n",
       "    .dataframe thead th {\n",
       "        text-align: right;\n",
       "    }\n",
       "</style>\n",
       "<table border=\"1\" class=\"dataframe\">\n",
       "  <thead>\n",
       "    <tr style=\"text-align: right;\">\n",
       "      <th></th>\n",
       "      <th>SepalLengthCm</th>\n",
       "      <th>SepalWidthCm</th>\n",
       "      <th>PetalLengthCm</th>\n",
       "      <th>PetalWidthCm</th>\n",
       "    </tr>\n",
       "  </thead>\n",
       "  <tbody>\n",
       "    <tr>\n",
       "      <th>0</th>\n",
       "      <td>5.1</td>\n",
       "      <td>3.5</td>\n",
       "      <td>1.4</td>\n",
       "      <td>0.2</td>\n",
       "    </tr>\n",
       "    <tr>\n",
       "      <th>1</th>\n",
       "      <td>4.9</td>\n",
       "      <td>3.0</td>\n",
       "      <td>1.4</td>\n",
       "      <td>0.2</td>\n",
       "    </tr>\n",
       "    <tr>\n",
       "      <th>2</th>\n",
       "      <td>4.7</td>\n",
       "      <td>3.2</td>\n",
       "      <td>1.3</td>\n",
       "      <td>0.2</td>\n",
       "    </tr>\n",
       "  </tbody>\n",
       "</table>\n",
       "</div>"
      ],
      "text/plain": [
       "   SepalLengthCm  SepalWidthCm  PetalLengthCm  PetalWidthCm\n",
       "0            5.1           3.5            1.4           0.2\n",
       "1            4.9           3.0            1.4           0.2\n",
       "2            4.7           3.2            1.3           0.2"
      ]
     },
     "execution_count": 19,
     "metadata": {},
     "output_type": "execute_result"
    }
   ],
   "source": [
    "x = df.drop(columns=['Id', 'Species'])\n",
    "y = df['Species']\n",
    "x.head(3)"
   ]
  },
  {
   "cell_type": "code",
   "execution_count": 22,
   "id": "b8e5f6b0-9a0b-441e-bc4e-4b9c8df4bf9b",
   "metadata": {},
   "outputs": [
    {
     "name": "stdout",
     "output_type": "stream",
     "text": [
      "0    0\n",
      "1    0\n",
      "2    0\n",
      "3    0\n",
      "4    0\n",
      "Name: Species, dtype: int32\n"
     ]
    }
   ],
   "source": [
    "print(y[:5])"
   ]
  },
  {
   "cell_type": "code",
   "execution_count": 24,
   "id": "42ec7039-8869-4f26-8050-741d980015f0",
   "metadata": {},
   "outputs": [],
   "source": [
    "from sklearn.model_selection import train_test_split\n",
    "x_train, x_test, y_train, y_test = train_test_split(x, y, test_size=0.3, shuffle=True, random_state=69)"
   ]
  },
  {
   "cell_type": "code",
   "execution_count": 25,
   "id": "ef435e8f-c794-4fd1-ac53-290f2e6f21b7",
   "metadata": {},
   "outputs": [
    {
     "data": {
      "text/plain": [
       "(105, 4)"
      ]
     },
     "execution_count": 25,
     "metadata": {},
     "output_type": "execute_result"
    }
   ],
   "source": [
    "x_train.shape"
   ]
  },
  {
   "cell_type": "code",
   "execution_count": 48,
   "id": "e7c83586-319c-4d57-a71e-45fdb37618ad",
   "metadata": {},
   "outputs": [
    {
     "name": "stdout",
     "output_type": "stream",
     "text": [
      "    SepalLengthCm  SepalWidthCm  PetalLengthCm  PetalWidthCm\n",
      "57            4.9           2.4            3.3           1.0\n"
     ]
    },
    {
     "ename": "AttributeError",
     "evalue": "'function' object has no attribute 'transform'",
     "output_type": "error",
     "traceback": [
      "\u001b[1;31m---------------------------------------------------------------------------\u001b[0m",
      "\u001b[1;31mAttributeError\u001b[0m                            Traceback (most recent call last)",
      "Cell \u001b[1;32mIn[48], line 4\u001b[0m\n\u001b[0;32m      2\u001b[0m sc \u001b[38;5;241m=\u001b[39m StandardScaler()\n\u001b[0;32m      3\u001b[0m \u001b[38;5;28mprint\u001b[39m(x_train[:\u001b[38;5;241m1\u001b[39m])\n\u001b[1;32m----> 4\u001b[0m x_train \u001b[38;5;241m=\u001b[39m sc\u001b[38;5;241m.\u001b[39mfit\u001b[38;5;241m.\u001b[39mtransform(x_train)\n\u001b[0;32m      5\u001b[0m x_test \u001b[38;5;241m=\u001b[39m sc\u001b[38;5;241m.\u001b[39mtransform(x_test)\n\u001b[0;32m      6\u001b[0m \u001b[38;5;28mprint\u001b[39m(x_train[:\u001b[38;5;241m1\u001b[39m])\n",
      "\u001b[1;31mAttributeError\u001b[0m: 'function' object has no attribute 'transform'"
     ]
    }
   ],
   "source": [
    "from sklearn.preprocessing import StandardScaler\n",
    "sc = StandardScaler()\n",
    "print(x_train[:1])\n",
    "x_train = sc.fit.transform(x_train)\n",
    "x_test = sc.transform(x_test)\n",
    "print(x_train[:1])"
   ]
  },
  {
   "cell_type": "code",
   "execution_count": 30,
   "id": "885e4413-61a4-41f8-a00a-24fbb83212d6",
   "metadata": {},
   "outputs": [
    {
     "name": "stdout",
     "output_type": "stream",
     "text": [
      "[[0. 1. 0.]\n",
      " [0. 0. 1.]\n",
      " [0. 1. 0.]\n",
      " [0. 1. 0.]\n",
      " [0. 1. 0.]]\n"
     ]
    }
   ],
   "source": [
    "y_train = keras.utils.to_categorical(y_train, num_classes=3)\n",
    "print(y_train[:5])"
   ]
  },
  {
   "cell_type": "code",
   "execution_count": 31,
   "id": "31036c10-40c7-45f9-9a8d-11d6c886eee7",
   "metadata": {},
   "outputs": [],
   "source": [
    "from keras.models import Sequential\n",
    "from keras.layers import Dense, Dropout"
   ]
  },
  {
   "cell_type": "code",
   "execution_count": 34,
   "id": "86df3a0b-b463-49ab-842c-c7d72408d564",
   "metadata": {},
   "outputs": [
    {
     "name": "stderr",
     "output_type": "stream",
     "text": [
      "C:\\Users\\Prashant\\anaconda3\\Lib\\site-packages\\keras\\src\\layers\\core\\dense.py:86: UserWarning: Do not pass an `input_shape`/`input_dim` argument to a layer. When using Sequential models, prefer using an `Input(shape)` object as the first layer in the model instead.\n",
      "  super().__init__(activity_regularizer=activity_regularizer, **kwargs)\n"
     ]
    }
   ],
   "source": [
    "model = Sequential()\n",
    "model.add(Dense(units=32, activation='relu', input_shape=(x_train.shape[-1],)))\n",
    "model.add(Dense(units=32, activation='relu'))\n",
    "model.add(Dropout(0.5))\n",
    "model.add(Dense(units=3, activation='softmax'))"
   ]
  },
  {
   "cell_type": "code",
   "execution_count": 37,
   "id": "144a7431-9b5d-4cee-bf56-f9894052741e",
   "metadata": {},
   "outputs": [
    {
     "data": {
      "text/html": [
       "<pre style=\"white-space:pre;overflow-x:auto;line-height:normal;font-family:Menlo,'DejaVu Sans Mono',consolas,'Courier New',monospace\"><span style=\"font-weight: bold\">Model: \"sequential_2\"</span>\n",
       "</pre>\n"
      ],
      "text/plain": [
       "\u001b[1mModel: \"sequential_2\"\u001b[0m\n"
      ]
     },
     "metadata": {},
     "output_type": "display_data"
    },
    {
     "data": {
      "text/html": [
       "<pre style=\"white-space:pre;overflow-x:auto;line-height:normal;font-family:Menlo,'DejaVu Sans Mono',consolas,'Courier New',monospace\">┏━━━━━━━━━━━━━━━━━━━━━━━━━━━━━━━━━┳━━━━━━━━━━━━━━━━━━━━━━━━┳━━━━━━━━━━━━━━━┓\n",
       "┃<span style=\"font-weight: bold\"> Layer (type)                    </span>┃<span style=\"font-weight: bold\"> Output Shape           </span>┃<span style=\"font-weight: bold\">       Param # </span>┃\n",
       "┡━━━━━━━━━━━━━━━━━━━━━━━━━━━━━━━━━╇━━━━━━━━━━━━━━━━━━━━━━━━╇━━━━━━━━━━━━━━━┩\n",
       "│ dense_2 (<span style=\"color: #0087ff; text-decoration-color: #0087ff\">Dense</span>)                 │ (<span style=\"color: #00d7ff; text-decoration-color: #00d7ff\">None</span>, <span style=\"color: #00af00; text-decoration-color: #00af00\">32</span>)             │           <span style=\"color: #00af00; text-decoration-color: #00af00\">160</span> │\n",
       "├─────────────────────────────────┼────────────────────────┼───────────────┤\n",
       "│ dense_3 (<span style=\"color: #0087ff; text-decoration-color: #0087ff\">Dense</span>)                 │ (<span style=\"color: #00d7ff; text-decoration-color: #00d7ff\">None</span>, <span style=\"color: #00af00; text-decoration-color: #00af00\">32</span>)             │         <span style=\"color: #00af00; text-decoration-color: #00af00\">1,056</span> │\n",
       "├─────────────────────────────────┼────────────────────────┼───────────────┤\n",
       "│ dropout (<span style=\"color: #0087ff; text-decoration-color: #0087ff\">Dropout</span>)               │ (<span style=\"color: #00d7ff; text-decoration-color: #00d7ff\">None</span>, <span style=\"color: #00af00; text-decoration-color: #00af00\">32</span>)             │             <span style=\"color: #00af00; text-decoration-color: #00af00\">0</span> │\n",
       "├─────────────────────────────────┼────────────────────────┼───────────────┤\n",
       "│ dense_4 (<span style=\"color: #0087ff; text-decoration-color: #0087ff\">Dense</span>)                 │ (<span style=\"color: #00d7ff; text-decoration-color: #00d7ff\">None</span>, <span style=\"color: #00af00; text-decoration-color: #00af00\">3</span>)              │            <span style=\"color: #00af00; text-decoration-color: #00af00\">99</span> │\n",
       "└─────────────────────────────────┴────────────────────────┴───────────────┘\n",
       "</pre>\n"
      ],
      "text/plain": [
       "┏━━━━━━━━━━━━━━━━━━━━━━━━━━━━━━━━━┳━━━━━━━━━━━━━━━━━━━━━━━━┳━━━━━━━━━━━━━━━┓\n",
       "┃\u001b[1m \u001b[0m\u001b[1mLayer (type)                   \u001b[0m\u001b[1m \u001b[0m┃\u001b[1m \u001b[0m\u001b[1mOutput Shape          \u001b[0m\u001b[1m \u001b[0m┃\u001b[1m \u001b[0m\u001b[1m      Param #\u001b[0m\u001b[1m \u001b[0m┃\n",
       "┡━━━━━━━━━━━━━━━━━━━━━━━━━━━━━━━━━╇━━━━━━━━━━━━━━━━━━━━━━━━╇━━━━━━━━━━━━━━━┩\n",
       "│ dense_2 (\u001b[38;5;33mDense\u001b[0m)                 │ (\u001b[38;5;45mNone\u001b[0m, \u001b[38;5;34m32\u001b[0m)             │           \u001b[38;5;34m160\u001b[0m │\n",
       "├─────────────────────────────────┼────────────────────────┼───────────────┤\n",
       "│ dense_3 (\u001b[38;5;33mDense\u001b[0m)                 │ (\u001b[38;5;45mNone\u001b[0m, \u001b[38;5;34m32\u001b[0m)             │         \u001b[38;5;34m1,056\u001b[0m │\n",
       "├─────────────────────────────────┼────────────────────────┼───────────────┤\n",
       "│ dropout (\u001b[38;5;33mDropout\u001b[0m)               │ (\u001b[38;5;45mNone\u001b[0m, \u001b[38;5;34m32\u001b[0m)             │             \u001b[38;5;34m0\u001b[0m │\n",
       "├─────────────────────────────────┼────────────────────────┼───────────────┤\n",
       "│ dense_4 (\u001b[38;5;33mDense\u001b[0m)                 │ (\u001b[38;5;45mNone\u001b[0m, \u001b[38;5;34m3\u001b[0m)              │            \u001b[38;5;34m99\u001b[0m │\n",
       "└─────────────────────────────────┴────────────────────────┴───────────────┘\n"
      ]
     },
     "metadata": {},
     "output_type": "display_data"
    },
    {
     "data": {
      "text/html": [
       "<pre style=\"white-space:pre;overflow-x:auto;line-height:normal;font-family:Menlo,'DejaVu Sans Mono',consolas,'Courier New',monospace\"><span style=\"font-weight: bold\"> Total params: </span><span style=\"color: #00af00; text-decoration-color: #00af00\">1,315</span> (5.14 KB)\n",
       "</pre>\n"
      ],
      "text/plain": [
       "\u001b[1m Total params: \u001b[0m\u001b[38;5;34m1,315\u001b[0m (5.14 KB)\n"
      ]
     },
     "metadata": {},
     "output_type": "display_data"
    },
    {
     "data": {
      "text/html": [
       "<pre style=\"white-space:pre;overflow-x:auto;line-height:normal;font-family:Menlo,'DejaVu Sans Mono',consolas,'Courier New',monospace\"><span style=\"font-weight: bold\"> Trainable params: </span><span style=\"color: #00af00; text-decoration-color: #00af00\">1,315</span> (5.14 KB)\n",
       "</pre>\n"
      ],
      "text/plain": [
       "\u001b[1m Trainable params: \u001b[0m\u001b[38;5;34m1,315\u001b[0m (5.14 KB)\n"
      ]
     },
     "metadata": {},
     "output_type": "display_data"
    },
    {
     "data": {
      "text/html": [
       "<pre style=\"white-space:pre;overflow-x:auto;line-height:normal;font-family:Menlo,'DejaVu Sans Mono',consolas,'Courier New',monospace\"><span style=\"font-weight: bold\"> Non-trainable params: </span><span style=\"color: #00af00; text-decoration-color: #00af00\">0</span> (0.00 B)\n",
       "</pre>\n"
      ],
      "text/plain": [
       "\u001b[1m Non-trainable params: \u001b[0m\u001b[38;5;34m0\u001b[0m (0.00 B)\n"
      ]
     },
     "metadata": {},
     "output_type": "display_data"
    }
   ],
   "source": [
    "model.compile(optimizer='Adam', loss='categorical_crossentropy', metrics=['accuracy'])\n",
    "model.summary()"
   ]
  },
  {
   "cell_type": "code",
   "execution_count": 38,
   "id": "954297cd-b7e4-4933-bcfd-df45c10d0dc7",
   "metadata": {},
   "outputs": [
    {
     "name": "stdout",
     "output_type": "stream",
     "text": [
      "Epoch 1/100\n",
      "4/4 - 9s - 2s/step - accuracy: 0.3143 - loss: 1.4354\n",
      "Epoch 2/100\n",
      "4/4 - 1s - 185ms/step - accuracy: 0.3333 - loss: 1.3949\n",
      "Epoch 3/100\n",
      "4/4 - 0s - 18ms/step - accuracy: 0.3429 - loss: 1.2504\n",
      "Epoch 4/100\n",
      "4/4 - 0s - 13ms/step - accuracy: 0.3714 - loss: 1.1646\n",
      "Epoch 5/100\n",
      "4/4 - 0s - 18ms/step - accuracy: 0.3714 - loss: 1.1137\n",
      "Epoch 6/100\n",
      "4/4 - 0s - 15ms/step - accuracy: 0.3905 - loss: 1.0598\n",
      "Epoch 7/100\n",
      "4/4 - 0s - 14ms/step - accuracy: 0.5048 - loss: 0.9342\n",
      "Epoch 8/100\n",
      "4/4 - 0s - 27ms/step - accuracy: 0.5048 - loss: 0.8989\n",
      "Epoch 9/100\n",
      "4/4 - 0s - 16ms/step - accuracy: 0.5333 - loss: 0.8870\n",
      "Epoch 10/100\n",
      "4/4 - 0s - 13ms/step - accuracy: 0.5714 - loss: 0.8525\n",
      "Epoch 11/100\n",
      "4/4 - 0s - 14ms/step - accuracy: 0.6190 - loss: 0.8137\n",
      "Epoch 12/100\n",
      "4/4 - 0s - 17ms/step - accuracy: 0.6476 - loss: 0.7755\n",
      "Epoch 13/100\n",
      "4/4 - 0s - 14ms/step - accuracy: 0.6381 - loss: 0.7614\n",
      "Epoch 14/100\n",
      "4/4 - 0s - 14ms/step - accuracy: 0.6667 - loss: 0.7262\n",
      "Epoch 15/100\n",
      "4/4 - 0s - 14ms/step - accuracy: 0.6476 - loss: 0.7335\n",
      "Epoch 16/100\n",
      "4/4 - 0s - 14ms/step - accuracy: 0.7429 - loss: 0.6690\n",
      "Epoch 17/100\n",
      "4/4 - 0s - 16ms/step - accuracy: 0.7333 - loss: 0.6796\n",
      "Epoch 18/100\n",
      "4/4 - 0s - 15ms/step - accuracy: 0.7714 - loss: 0.6592\n",
      "Epoch 19/100\n",
      "4/4 - 0s - 16ms/step - accuracy: 0.8095 - loss: 0.6063\n",
      "Epoch 20/100\n",
      "4/4 - 0s - 13ms/step - accuracy: 0.7048 - loss: 0.6191\n",
      "Epoch 21/100\n",
      "4/4 - 0s - 14ms/step - accuracy: 0.7810 - loss: 0.5951\n",
      "Epoch 22/100\n",
      "4/4 - 0s - 14ms/step - accuracy: 0.8381 - loss: 0.5875\n",
      "Epoch 23/100\n",
      "4/4 - 0s - 14ms/step - accuracy: 0.7810 - loss: 0.5853\n",
      "Epoch 24/100\n",
      "4/4 - 0s - 14ms/step - accuracy: 0.8000 - loss: 0.5609\n",
      "Epoch 25/100\n",
      "4/4 - 0s - 14ms/step - accuracy: 0.8476 - loss: 0.4883\n",
      "Epoch 26/100\n",
      "4/4 - 0s - 16ms/step - accuracy: 0.7524 - loss: 0.5490\n",
      "Epoch 27/100\n",
      "4/4 - 0s - 14ms/step - accuracy: 0.8571 - loss: 0.4692\n",
      "Epoch 28/100\n",
      "4/4 - 0s - 43ms/step - accuracy: 0.8000 - loss: 0.5201\n",
      "Epoch 29/100\n",
      "4/4 - 0s - 17ms/step - accuracy: 0.8190 - loss: 0.5177\n",
      "Epoch 30/100\n",
      "4/4 - 0s - 14ms/step - accuracy: 0.8476 - loss: 0.4562\n",
      "Epoch 31/100\n",
      "4/4 - 0s - 14ms/step - accuracy: 0.8571 - loss: 0.4864\n",
      "Epoch 32/100\n",
      "4/4 - 0s - 14ms/step - accuracy: 0.8286 - loss: 0.4864\n",
      "Epoch 33/100\n",
      "4/4 - 0s - 14ms/step - accuracy: 0.7619 - loss: 0.5197\n",
      "Epoch 34/100\n",
      "4/4 - 0s - 15ms/step - accuracy: 0.8476 - loss: 0.4641\n",
      "Epoch 35/100\n",
      "4/4 - 0s - 16ms/step - accuracy: 0.8476 - loss: 0.4609\n",
      "Epoch 36/100\n",
      "4/4 - 0s - 15ms/step - accuracy: 0.8571 - loss: 0.4494\n",
      "Epoch 37/100\n",
      "4/4 - 0s - 15ms/step - accuracy: 0.8667 - loss: 0.4473\n",
      "Epoch 38/100\n",
      "4/4 - 0s - 15ms/step - accuracy: 0.8857 - loss: 0.4368\n",
      "Epoch 39/100\n",
      "4/4 - 0s - 15ms/step - accuracy: 0.8381 - loss: 0.4226\n",
      "Epoch 40/100\n",
      "4/4 - 0s - 14ms/step - accuracy: 0.8762 - loss: 0.4139\n",
      "Epoch 41/100\n",
      "4/4 - 0s - 13ms/step - accuracy: 0.8476 - loss: 0.4230\n",
      "Epoch 42/100\n",
      "4/4 - 0s - 14ms/step - accuracy: 0.8571 - loss: 0.4088\n",
      "Epoch 43/100\n",
      "4/4 - 0s - 15ms/step - accuracy: 0.8762 - loss: 0.3949\n",
      "Epoch 44/100\n",
      "4/4 - 0s - 14ms/step - accuracy: 0.8857 - loss: 0.4049\n",
      "Epoch 45/100\n",
      "4/4 - 0s - 15ms/step - accuracy: 0.8286 - loss: 0.4278\n",
      "Epoch 46/100\n",
      "4/4 - 0s - 30ms/step - accuracy: 0.8762 - loss: 0.3852\n",
      "Epoch 47/100\n",
      "4/4 - 0s - 15ms/step - accuracy: 0.9048 - loss: 0.3689\n",
      "Epoch 48/100\n",
      "4/4 - 0s - 15ms/step - accuracy: 0.9143 - loss: 0.3500\n",
      "Epoch 49/100\n",
      "4/4 - 0s - 14ms/step - accuracy: 0.8857 - loss: 0.4185\n",
      "Epoch 50/100\n",
      "4/4 - 0s - 14ms/step - accuracy: 0.9048 - loss: 0.3493\n",
      "Epoch 51/100\n",
      "4/4 - 0s - 14ms/step - accuracy: 0.8571 - loss: 0.3673\n",
      "Epoch 52/100\n",
      "4/4 - 0s - 14ms/step - accuracy: 0.8952 - loss: 0.3475\n",
      "Epoch 53/100\n",
      "4/4 - 0s - 15ms/step - accuracy: 0.9048 - loss: 0.3157\n",
      "Epoch 54/100\n",
      "4/4 - 0s - 15ms/step - accuracy: 0.9619 - loss: 0.2924\n",
      "Epoch 55/100\n",
      "4/4 - 0s - 13ms/step - accuracy: 0.8571 - loss: 0.3686\n",
      "Epoch 56/100\n",
      "4/4 - 0s - 24ms/step - accuracy: 0.8952 - loss: 0.3372\n",
      "Epoch 57/100\n",
      "4/4 - 0s - 13ms/step - accuracy: 0.9143 - loss: 0.3100\n",
      "Epoch 58/100\n",
      "4/4 - 0s - 13ms/step - accuracy: 0.8857 - loss: 0.3246\n",
      "Epoch 59/100\n",
      "4/4 - 0s - 12ms/step - accuracy: 0.8857 - loss: 0.3426\n",
      "Epoch 60/100\n",
      "4/4 - 0s - 14ms/step - accuracy: 0.8857 - loss: 0.3380\n",
      "Epoch 61/100\n",
      "4/4 - 0s - 15ms/step - accuracy: 0.9238 - loss: 0.3155\n",
      "Epoch 62/100\n",
      "4/4 - 0s - 14ms/step - accuracy: 0.9333 - loss: 0.2930\n",
      "Epoch 63/100\n",
      "4/4 - 0s - 12ms/step - accuracy: 0.9619 - loss: 0.2660\n",
      "Epoch 64/100\n",
      "4/4 - 0s - 13ms/step - accuracy: 0.9143 - loss: 0.3175\n",
      "Epoch 65/100\n",
      "4/4 - 0s - 18ms/step - accuracy: 0.9333 - loss: 0.3162\n",
      "Epoch 66/100\n",
      "4/4 - 0s - 13ms/step - accuracy: 0.8857 - loss: 0.3182\n",
      "Epoch 67/100\n",
      "4/4 - 0s - 13ms/step - accuracy: 0.9619 - loss: 0.2718\n",
      "Epoch 68/100\n",
      "4/4 - 0s - 13ms/step - accuracy: 0.9333 - loss: 0.2766\n",
      "Epoch 69/100\n",
      "4/4 - 0s - 14ms/step - accuracy: 0.9143 - loss: 0.2864\n",
      "Epoch 70/100\n",
      "4/4 - 0s - 12ms/step - accuracy: 0.8952 - loss: 0.2976\n",
      "Epoch 71/100\n",
      "4/4 - 0s - 49ms/step - accuracy: 0.9333 - loss: 0.2649\n",
      "Epoch 72/100\n",
      "4/4 - 0s - 15ms/step - accuracy: 0.8762 - loss: 0.3221\n",
      "Epoch 73/100\n",
      "4/4 - 0s - 14ms/step - accuracy: 0.8571 - loss: 0.2879\n",
      "Epoch 74/100\n",
      "4/4 - 0s - 14ms/step - accuracy: 0.9143 - loss: 0.2817\n",
      "Epoch 75/100\n",
      "4/4 - 0s - 14ms/step - accuracy: 0.9143 - loss: 0.2740\n",
      "Epoch 76/100\n",
      "4/4 - 0s - 14ms/step - accuracy: 0.9429 - loss: 0.2279\n",
      "Epoch 77/100\n",
      "4/4 - 0s - 13ms/step - accuracy: 0.9238 - loss: 0.2760\n",
      "Epoch 78/100\n",
      "4/4 - 0s - 13ms/step - accuracy: 0.9333 - loss: 0.2526\n",
      "Epoch 79/100\n",
      "4/4 - 0s - 13ms/step - accuracy: 0.9143 - loss: 0.2363\n",
      "Epoch 80/100\n",
      "4/4 - 0s - 14ms/step - accuracy: 0.9048 - loss: 0.2917\n",
      "Epoch 81/100\n",
      "4/4 - 0s - 14ms/step - accuracy: 0.9143 - loss: 0.2664\n",
      "Epoch 82/100\n",
      "4/4 - 0s - 13ms/step - accuracy: 0.8857 - loss: 0.2930\n",
      "Epoch 83/100\n",
      "4/4 - 0s - 14ms/step - accuracy: 0.9143 - loss: 0.2505\n",
      "Epoch 84/100\n",
      "4/4 - 0s - 13ms/step - accuracy: 0.9333 - loss: 0.2398\n",
      "Epoch 85/100\n",
      "4/4 - 0s - 15ms/step - accuracy: 0.9429 - loss: 0.2454\n",
      "Epoch 86/100\n",
      "4/4 - 0s - 15ms/step - accuracy: 0.9048 - loss: 0.2627\n",
      "Epoch 87/100\n",
      "4/4 - 0s - 13ms/step - accuracy: 0.9333 - loss: 0.2538\n",
      "Epoch 88/100\n",
      "4/4 - 0s - 13ms/step - accuracy: 0.9143 - loss: 0.2334\n",
      "Epoch 89/100\n",
      "4/4 - 0s - 14ms/step - accuracy: 0.9714 - loss: 0.2075\n",
      "Epoch 90/100\n",
      "4/4 - 0s - 13ms/step - accuracy: 0.9333 - loss: 0.2369\n",
      "Epoch 91/100\n",
      "4/4 - 0s - 14ms/step - accuracy: 0.9143 - loss: 0.2241\n",
      "Epoch 92/100\n",
      "4/4 - 0s - 29ms/step - accuracy: 0.9333 - loss: 0.2655\n",
      "Epoch 93/100\n",
      "4/4 - 0s - 13ms/step - accuracy: 0.9238 - loss: 0.2348\n",
      "Epoch 94/100\n",
      "4/4 - 0s - 13ms/step - accuracy: 0.9524 - loss: 0.2159\n",
      "Epoch 95/100\n",
      "4/4 - 0s - 16ms/step - accuracy: 0.9429 - loss: 0.2457\n",
      "Epoch 96/100\n",
      "4/4 - 0s - 16ms/step - accuracy: 0.9333 - loss: 0.2267\n",
      "Epoch 97/100\n",
      "4/4 - 0s - 16ms/step - accuracy: 0.9619 - loss: 0.2162\n",
      "Epoch 98/100\n",
      "4/4 - 0s - 17ms/step - accuracy: 0.9238 - loss: 0.2105\n",
      "Epoch 99/100\n",
      "4/4 - 0s - 16ms/step - accuracy: 0.9238 - loss: 0.2266\n",
      "Epoch 100/100\n",
      "4/4 - 0s - 17ms/step - accuracy: 0.9238 - loss: 0.2515\n"
     ]
    },
    {
     "data": {
      "text/plain": [
       "<keras.src.callbacks.history.History at 0x29b8ceb3390>"
      ]
     },
     "execution_count": 38,
     "metadata": {},
     "output_type": "execute_result"
    }
   ],
   "source": [
    "model.fit(x_train, y_train, epochs=100, verbose=2)"
   ]
  },
  {
   "cell_type": "code",
   "execution_count": 39,
   "id": "954bbaed-d11a-4f2e-a63b-38e30cef58b6",
   "metadata": {},
   "outputs": [
    {
     "name": "stdout",
     "output_type": "stream",
     "text": [
      "\u001b[1m2/2\u001b[0m \u001b[32m━━━━━━━━━━━━━━━━━━━━\u001b[0m\u001b[37m\u001b[0m \u001b[1m0s\u001b[0m 82ms/step\n",
      "[[9.9811792e-01 1.8735122e-03 8.5978691e-06]\n",
      " [6.3642594e-03 9.1755271e-01 7.6083101e-02]\n",
      " [9.9686348e-01 3.1229616e-03 1.3528609e-05]\n",
      " [1.1126022e-04 5.4815616e-02 9.4507313e-01]\n",
      " [9.9557388e-01 4.4040089e-03 2.2116446e-05]]\n"
     ]
    }
   ],
   "source": [
    "prediction = model.predict(x_test)\n",
    "print(prediction[:5])"
   ]
  },
  {
   "cell_type": "code",
   "execution_count": 40,
   "id": "dfa06a2e-ebf8-43a3-ab3e-5703010d5a5d",
   "metadata": {},
   "outputs": [
    {
     "name": "stdout",
     "output_type": "stream",
     "text": [
      "[0 1 0 2 0]\n"
     ]
    }
   ],
   "source": [
    "prediction = np.argmax(prediction, axis=-1)\n",
    "print(prediction[:5])"
   ]
  },
  {
   "cell_type": "code",
   "execution_count": 41,
   "id": "4cd9c46e-b2c2-4604-88c9-117df5f1138a",
   "metadata": {},
   "outputs": [
    {
     "name": "stdout",
     "output_type": "stream",
     "text": [
      "4      0\n",
      "58     1\n",
      "20     0\n",
      "114    2\n",
      "31     0\n",
      "Name: Species, dtype: int32\n"
     ]
    }
   ],
   "source": [
    "print(y_test[:5])"
   ]
  },
  {
   "cell_type": "code",
   "execution_count": 42,
   "id": "5ccc1aec-1c89-42b6-b920-308d557ef640",
   "metadata": {},
   "outputs": [
    {
     "name": "stdout",
     "output_type": "stream",
     "text": [
      "0.9777777777777777\n"
     ]
    }
   ],
   "source": [
    "from sklearn.metrics import accuracy_score, confusion_matrix\n",
    "print(accuracy_score(y_test, prediction))"
   ]
  },
  {
   "cell_type": "code",
   "execution_count": 43,
   "id": "33b7fe70-fecc-4e1b-ad65-7d1efbaa83ad",
   "metadata": {},
   "outputs": [
    {
     "name": "stdout",
     "output_type": "stream",
     "text": [
      "[[16  0  0]\n",
      " [ 0 12  0]\n",
      " [ 0  1 16]]\n"
     ]
    }
   ],
   "source": [
    "cm = confusion_matrix(y_test, prediction)\n",
    "print(cm)"
   ]
  },
  {
   "cell_type": "code",
   "execution_count": 46,
   "id": "c0030496-9905-4c7b-8f25-05d97eaee265",
   "metadata": {},
   "outputs": [
    {
     "data": {
      "text/plain": [
       "Text(50.72222222222221, 0.5, 'actual')"
      ]
     },
     "execution_count": 46,
     "metadata": {},
     "output_type": "execute_result"
    },
    {
     "data": {
      "image/png": "[encoded data removed]",
      "text/plain": [
       "<Figure size 640x480 with 2 Axes>"
      ]
     },
     "metadata": {},
     "output_type": "display_data"
    }
   ],
   "source": [
    "ax = sns.heatmap(cm, annot=True, fmt='d', cmap='Reds', xticklabels=species_name, yticklabels=species_name)\n",
    "ax.set_title('confusion matrix for irsis dataset prediction')\n",
    "ax.set_xlabel('prediction', fontsize=14)\n",
    "ax.set_ylabel('actual', fontsize=14)"
   ]
  },
  {
   "cell_type": "code",
   "execution_count": null,
   "id": "aa59ec8a-f999-4c90-9566-09cacd0c5ddd",
   "metadata": {},
   "outputs": [],
   "source": []
  }
 ],
 "metadata": {
  "kernelspec": {
   "display_name": "Python 3 (ipykernel)",
   "language": "python",
   "name": "python3"
  },
  "language_info": {
   "codemirror_mode": {
    "name": "ipython",
    "version": 3
   },
   "file_extension": ".py",
   "mimetype": "text/x-python",
   "name": "python",
   "nbconvert_exporter": "python",
   "pygments_lexer": "ipython3",
   "version": "3.11.7"
  }
 },
 "nbformat": 4,
 "nbformat_minor": 5
}
